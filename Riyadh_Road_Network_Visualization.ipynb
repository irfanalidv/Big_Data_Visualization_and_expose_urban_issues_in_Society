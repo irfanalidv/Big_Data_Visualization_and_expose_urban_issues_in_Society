{
 "cells": [
  {
   "cell_type": "code",
   "execution_count": 1,
   "metadata": {
    "collapsed": false
   },
   "outputs": [],
   "source": [
    "import networkx as nx\n",
    "import matplotlib.pyplot as plt\n",
    "import numpy as np\n",
    "import pandas as pd\n",
    "import seaborn as sns"
   ]
  },
  {
   "cell_type": "code",
   "execution_count": 2,
   "metadata": {
    "collapsed": false
   },
   "outputs": [
    {
     "data": {
      "text/html": [
       "<div>\n",
       "<table border=\"1\" class=\"dataframe\">\n",
       "  <thead>\n",
       "    <tr style=\"text-align: right;\">\n",
       "      <th></th>\n",
       "      <th>source</th>\n",
       "      <th>target</th>\n",
       "      <th>volume</th>\n",
       "      <th>capacity</th>\n",
       "      <th>voc</th>\n",
       "      <th>degree</th>\n",
       "      <th>free_travel_time</th>\n",
       "      <th>travel_time</th>\n",
       "    </tr>\n",
       "    <tr>\n",
       "      <th>eid</th>\n",
       "      <th></th>\n",
       "      <th></th>\n",
       "      <th></th>\n",
       "      <th></th>\n",
       "      <th></th>\n",
       "      <th></th>\n",
       "      <th></th>\n",
       "      <th></th>\n",
       "    </tr>\n",
       "  </thead>\n",
       "  <tbody>\n",
       "    <tr>\n",
       "      <th>101</th>\n",
       "      <td>1</td>\n",
       "      <td>2</td>\n",
       "      <td>67.2220</td>\n",
       "      <td>2850</td>\n",
       "      <td>0.023587</td>\n",
       "      <td>158</td>\n",
       "      <td>0.268594</td>\n",
       "      <td>0.268594</td>\n",
       "    </tr>\n",
       "    <tr>\n",
       "      <th>20415</th>\n",
       "      <td>1</td>\n",
       "      <td>5748</td>\n",
       "      <td>53.1765</td>\n",
       "      <td>2850</td>\n",
       "      <td>0.018658</td>\n",
       "      <td>108</td>\n",
       "      <td>1.238560</td>\n",
       "      <td>1.238560</td>\n",
       "    </tr>\n",
       "    <tr>\n",
       "      <th>14254</th>\n",
       "      <td>1</td>\n",
       "      <td>9437</td>\n",
       "      <td>262.0150</td>\n",
       "      <td>2850</td>\n",
       "      <td>0.091935</td>\n",
       "      <td>406</td>\n",
       "      <td>1.354030</td>\n",
       "      <td>1.354040</td>\n",
       "    </tr>\n",
       "    <tr>\n",
       "      <th>11874</th>\n",
       "      <td>2</td>\n",
       "      <td>9950</td>\n",
       "      <td>8.0050</td>\n",
       "      <td>9405</td>\n",
       "      <td>0.000851</td>\n",
       "      <td>8</td>\n",
       "      <td>1.067390</td>\n",
       "      <td>1.067390</td>\n",
       "    </tr>\n",
       "    <tr>\n",
       "      <th>16603</th>\n",
       "      <td>2</td>\n",
       "      <td>1</td>\n",
       "      <td>209.0270</td>\n",
       "      <td>2850</td>\n",
       "      <td>0.073343</td>\n",
       "      <td>369</td>\n",
       "      <td>0.268594</td>\n",
       "      <td>0.268596</td>\n",
       "    </tr>\n",
       "  </tbody>\n",
       "</table>\n",
       "</div>"
      ],
      "text/plain": [
       "       source  target    volume  capacity       voc  degree  free_travel_time  \\\n",
       "eid                                                                             \n",
       "101         1       2   67.2220      2850  0.023587     158          0.268594   \n",
       "20415       1    5748   53.1765      2850  0.018658     108          1.238560   \n",
       "14254       1    9437  262.0150      2850  0.091935     406          1.354030   \n",
       "11874       2    9950    8.0050      9405  0.000851       8          1.067390   \n",
       "16603       2       1  209.0270      2850  0.073343     369          0.268594   \n",
       "\n",
       "       travel_time  \n",
       "eid                 \n",
       "101       0.268594  \n",
       "20415     1.238560  \n",
       "14254     1.354040  \n",
       "11874     1.067390  \n",
       "16603     0.268596  "
      ]
     },
     "execution_count": 2,
     "metadata": {},
     "output_type": "execute_result"
    }
   ],
   "source": [
    "df = pd.read_csv(\"./Road_Network_DataSet/Riyadh/Riyadh_Route_Edges_am.txt\", sep=\" \", index_col=0)\n",
    "df.head()"
   ]
  },
  {
   "cell_type": "code",
   "execution_count": 3,
   "metadata": {
    "collapsed": false
   },
   "outputs": [],
   "source": [
    "# Defining an empty undirected graph.\n",
    "RG = nx.Graph()\n",
    "\n",
    "# We also define the values for the edge attributes\n",
    "keys = ['volume', 'capacity', 'voc', 'degree', 'free_travel_time', 'travel_time']\n",
    "i = 0\n",
    "for row in df.itertuples(index=False):\n",
    "    i +=1\n",
    "    \n",
    "    if i < 3000:\n",
    "        values = row[2:]\n",
    "        # Create a dictionary with the keys and row values\n",
    "        edge_attributes = dict(zip(keys, values))\n",
    "        my_tuple = (row[0], row[1])\n",
    "        # Add the edge to the graph\n",
    "        RG.add_edge(*my_tuple, attr_dict=edge_attributes)\n",
    "degrees = nx.degree(RG)\n"
   ]
  },
  {
   "cell_type": "code",
   "execution_count": 4,
   "metadata": {
    "collapsed": true
   },
   "outputs": [],
   "source": [
    "plt.figure(figsize=(8,8))\n",
    "P = nx.spring_layout(RG)\n",
    "\n",
    "node_sizes = [v * 50 for v in degrees.values()]\n",
    "node_colors = range(len(RG.nodes()))\n",
    "nx.draw(RG, pos=P, node_size=node_sizes, width=.5, node_color=node_colors);"
   ]
  },
  {
   "cell_type": "code",
   "execution_count": 4,
   "metadata": {
    "collapsed": true
   },
   "outputs": [],
   "source": [
    "nodes_df = pd.read_csv(\"./Road_Network_DataSet/Riyadh/Riyadh_Nodes.txt\", sep=\" \", index_col=0)\n",
    "\n",
    "paths = nx.shortest_path(RG)\n",
    "\n",
    "loc_dict = {}\n",
    "for node_index in RG.nodes():\n",
    "    loc_dict[node_index] = (float(nodes_df.loc[[node_index]]['st_x']), float(nodes_df.loc[[node_index]]['st_y']))"
   ]
  },
  {
   "cell_type": "code",
   "execution_count": 5,
   "metadata": {
    "collapsed": false
   },
   "outputs": [],
   "source": [
    "import matplotlib.pyplot as plt\n",
    "\n",
    "f = plt.figure()\n",
    "node_sizes = [v * 2 for v in degrees.values()]\n",
    "node_colors = range(len(RG.nodes()))\n",
    "nx.draw(RG,ax=f.add_subplot(), pos=loc_dict, node_size=node_sizes, width=.5, node_color=node_colors);\n",
    "\n",
    "f.savefig(\"./Riyadh_Road_Network_Visualization.png\")"
   ]
  },
  {
   "cell_type": "code",
   "execution_count": 16,
   "metadata": {
    "collapsed": false
   },
   "outputs": [],
   "source": [
    "import requests\n",
    "from ipywidgets import Image\n",
    "\n",
    "Image(value=requests.get('https://cloud.githubusercontent.com/assets/5808185/25030704/70242ae4-20e4-11e7-89bf-88672c1c7128.png').content)\n"
   ]
  }
 ],
 "metadata": {
  "kernelspec": {
   "display_name": "Python 2",
   "language": "python",
   "name": "python2"
  },
  "language_info": {
   "codemirror_mode": {
    "name": "ipython",
    "version": 2
   },
   "file_extension": ".py",
   "mimetype": "text/x-python",
   "name": "python",
   "nbconvert_exporter": "python",
   "pygments_lexer": "ipython2",
   "version": "2.7.11"
  }
 },
 "nbformat": 4,
 "nbformat_minor": 2
}
